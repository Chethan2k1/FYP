{
 "cells": [
  {
   "cell_type": "code",
   "execution_count": 2,
   "metadata": {},
   "outputs": [],
   "source": [
    "from pystackreg import StackReg\n",
    "from skimage import io, exposure\n",
    "from matplotlib import pyplot as plt"
   ]
  },
  {
   "cell_type": "code",
   "execution_count": 3,
   "metadata": {},
   "outputs": [],
   "source": [
    "def overlay_images(imgs, equalize=False, aggregator=np.mean):\n",
    "    if equalize:\n",
    "        imgs = [exposure.equalize_hist(img) for img in imgs]\n",
    "    imgs = np.stack(imgs, axis=0)\n",
    "    \n",
    "    return aggregator(imgs, axis=0)"
   ]
  },
  {
   "cell_type": "code",
   "execution_count": 8,
   "metadata": {},
   "outputs": [
    {
     "name": "stderr",
     "output_type": "stream",
     "text": [
      "C:\\Users\\chvre\\AppData\\Local\\Temp\\ipykernel_6068\\2911716738.py:16: DeprecationWarning: <tifffile.TiffWriter.save> is deprecated. Use TiffWriter.write\n",
      "  stack.save(img)\n"
     ]
    }
   ],
   "source": [
    "import tifffile\n",
    "import numpy as np\n",
    "\n",
    "base_path = 'C:/Users/chvre/Desktop/FYP/'\n",
    "sr = StackReg(StackReg.TRANSLATION)\n",
    "count = 1\n",
    "\n",
    "for offset in range(0, 20):\n",
    "  lt = []\n",
    "\n",
    "  with tifffile.TiffWriter(base_path + 'image_stack.tif') as stack:\n",
    "      for i in range(1, 6):\n",
    "          img_name = base_path + 'AMD_IMAGES/' + str(offset*5 + i) + '.jpg'\n",
    "          img = io.imread(img_name)\n",
    "          stack.save(img)\n",
    "\n",
    "  with tifffile.TiffFile(base_path + 'image_stack.tif') as stack:\n",
    "    for series in stack.series:\n",
    "      first_page = series[0]\n",
    "\n",
    "    lt = stack.asarray(key=slice(None))\n",
    "\n",
    "  output = sr.register_transform_stack(lt, reference='previous')\n",
    "  mean = overlay_images(output, aggregator=np.mean)\n",
    "\n",
    "  noisy_image = io.imread(base_path + 'AMD_IMAGES/' + str(offset*5 + 1) + '.jpg')\n",
    "\n",
    "  # save images\n",
    "\n",
    "  tifffile.imwrite(base_path + 'dataset/raw/' + str(count) + '.tif' , noisy_image, photometric='minisblack')\n",
    "  tifffile.imwrite(base_path + 'dataset/average/' + str(count) + '.tif' , mean, photometric='minisblack')\n",
    "  count = count + 1\n",
    "\n",
    "  # # print the noisy and corresponding mean\n",
    "  # plt.figure()\n",
    "  # plt.subplot(121)\n",
    "  # plt.imshow(noisy_image, cmap='gray')\n",
    "\n",
    "  # plt.subplot(122)\n",
    "  # plt.imshow(mean, cmap='gray')\n",
    "  # plt.show()"
   ]
  }
 ],
 "metadata": {
  "interpreter": {
   "hash": "bcb27ad889fdf6e3f3ac13a053c29eaede9039932cff6d3fd840ed95ae7dd320"
  },
  "kernelspec": {
   "display_name": "Python 3.9.5 ('base')",
   "language": "python",
   "name": "python3"
  },
  "language_info": {
   "codemirror_mode": {
    "name": "ipython",
    "version": 3
   },
   "file_extension": ".py",
   "mimetype": "text/x-python",
   "name": "python",
   "nbconvert_exporter": "python",
   "pygments_lexer": "ipython3",
   "version": "3.8.12"
  },
  "orig_nbformat": 4
 },
 "nbformat": 4,
 "nbformat_minor": 2
}
