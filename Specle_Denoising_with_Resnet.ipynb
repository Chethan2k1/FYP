{
 "cells": [
  {
   "cell_type": "code",
   "execution_count": 3,
   "metadata": {
    "id": "WnJdhoyVqGKc"
   },
   "outputs": [],
   "source": [
    "from tensorflow import keras\n",
    "import copy\n",
    "import json\n",
    "import numpy as np\n",
    "from matplotlib import pyplot as plt"
   ]
  },
  {
   "cell_type": "code",
   "execution_count": 4,
   "metadata": {
    "id": "LFdOkzslj1vG"
   },
   "outputs": [
    {
     "name": "stdout",
     "output_type": "stream",
     "text": [
      "4000\n"
     ]
    }
   ],
   "source": [
    "# 80% for training and 20% for testing\n",
    "import os\n",
    "from PIL import Image\n",
    "from sklearn.model_selection import train_test_split\n",
    "import matplotlib.pyplot as plt\n",
    "import matplotlib.image as mpimg\n",
    "\n",
    "file_names = os.listdir('C:/Users/USER/Desktop/OCT_FYP/dataset_1/clean')\n",
    "length = len(file_names)\n",
    "print(length)\n",
    "\n",
    "x = []\n",
    "y = []\n",
    "\n",
    "for i in range(0, length):\n",
    "    x_image = Image.open('C:/Users/USER/Desktop/OCT_FYP/dataset_1/clean/'+file_names[i])\n",
    "    x_image_noisy = Image.open('C:/Users/USER/Desktop/OCT_FYP/dataset_1/noisy/'+file_names[i])  \n",
    "    # convert images to numpy arrays\n",
    "    x_image = np.array(x_image)\n",
    "    x_image_noisy = np.array(x_image_noisy)\n",
    "    # convert type from int to float32\n",
    "    x_image = x_image.astype('float32')\n",
    "    x_image_noisy = x_image_noisy.astype('float32')\n",
    "    x_image_noise = []\n",
    "\n",
    "    for i in range(0, 255):\n",
    "      x_image_noise_sub = []\n",
    "      for j in range(0, 255):\n",
    "        if(x_image[i][j] != 0):\n",
    "          x_image_noise_sub.append(x_image_noisy[i][j]%(x_image[i][j]))\n",
    "        else:\n",
    "          x_image_noise_sub.append(255)\n",
    "      \n",
    "      x_image_noise.append(x_image_noise_sub)\n",
    "\n",
    "    # append to main numpy array\n",
    "    x_image_noisy = np.expand_dims(x_image_noisy, axis=-1)\n",
    "    x_image_noise = np.expand_dims(x_image_noise, axis=-1)\n",
    "    x.append(x_image_noisy)\n",
    "    y.append(x_image_noise)\n",
    "\n",
    "x = np.array(x)\n",
    "y = np.array(y)\n",
    "x /= 255\n",
    "y /= 255\n",
    "\n",
    "x_train, x_test, x_train_noise, x_test_noise = train_test_split(x,y, test_size = 0.2) "
   ]
  },
  {
   "cell_type": "code",
   "execution_count": 5,
   "metadata": {
    "id": "xZcyDWjhsU9m"
   },
   "outputs": [],
   "source": [
    "from tensorflow.keras.models import Model\n",
    "from tensorflow.keras.layers import Add, Conv2D\n",
    "from tensorflow.keras.layers import Input, Activation, BatchNormalization\n",
    "from tensorflow.keras.optimizers import Adam"
   ]
  },
  {
   "cell_type": "code",
   "execution_count": 6,
   "metadata": {
    "colab": {
     "base_uri": "https://localhost:8080/"
    },
    "id": "lkoR7os6rrPF",
    "outputId": "1875c11d-49d2-46a6-fc3d-9c347d330700"
   },
   "outputs": [
    {
     "name": "stdout",
     "output_type": "stream",
     "text": [
      "Model: \"functional_1\"\n",
      "__________________________________________________________________________________________________\n",
      "Layer (type)                    Output Shape         Param #     Connected to                     \n",
      "==================================================================================================\n",
      "input_1 (InputLayer)            [(None, 255, 255, 1) 0                                            \n",
      "__________________________________________________________________________________________________\n",
      "conv2d (Conv2D)                 (None, 255, 255, 32) 320         input_1[0][0]                    \n",
      "__________________________________________________________________________________________________\n",
      "activation (Activation)         (None, 255, 255, 32) 0           conv2d[0][0]                     \n",
      "__________________________________________________________________________________________________\n",
      "conv2d_1 (Conv2D)               (None, 255, 255, 32) 9248        activation[0][0]                 \n",
      "__________________________________________________________________________________________________\n",
      "batch_normalization (BatchNorma (None, 255, 255, 32) 128         conv2d_1[0][0]                   \n",
      "__________________________________________________________________________________________________\n",
      "activation_1 (Activation)       (None, 255, 255, 32) 0           batch_normalization[0][0]        \n",
      "__________________________________________________________________________________________________\n",
      "add (Add)                       (None, 255, 255, 32) 0           activation[0][0]                 \n",
      "                                                                 activation_1[0][0]               \n",
      "__________________________________________________________________________________________________\n",
      "conv2d_2 (Conv2D)               (None, 255, 255, 32) 9248        add[0][0]                        \n",
      "__________________________________________________________________________________________________\n",
      "batch_normalization_1 (BatchNor (None, 255, 255, 32) 128         conv2d_2[0][0]                   \n",
      "__________________________________________________________________________________________________\n",
      "activation_2 (Activation)       (None, 255, 255, 32) 0           batch_normalization_1[0][0]      \n",
      "__________________________________________________________________________________________________\n",
      "add_1 (Add)                     (None, 255, 255, 32) 0           add[0][0]                        \n",
      "                                                                 activation_2[0][0]               \n",
      "__________________________________________________________________________________________________\n",
      "conv2d_3 (Conv2D)               (None, 255, 255, 32) 9248        add_1[0][0]                      \n",
      "__________________________________________________________________________________________________\n",
      "batch_normalization_2 (BatchNor (None, 255, 255, 32) 128         conv2d_3[0][0]                   \n",
      "__________________________________________________________________________________________________\n",
      "activation_3 (Activation)       (None, 255, 255, 32) 0           batch_normalization_2[0][0]      \n",
      "__________________________________________________________________________________________________\n",
      "add_2 (Add)                     (None, 255, 255, 32) 0           add_1[0][0]                      \n",
      "                                                                 activation_3[0][0]               \n",
      "__________________________________________________________________________________________________\n",
      "conv2d_4 (Conv2D)               (None, 255, 255, 32) 9248        add_2[0][0]                      \n",
      "__________________________________________________________________________________________________\n",
      "batch_normalization_3 (BatchNor (None, 255, 255, 32) 128         conv2d_4[0][0]                   \n",
      "__________________________________________________________________________________________________\n",
      "activation_4 (Activation)       (None, 255, 255, 32) 0           batch_normalization_3[0][0]      \n",
      "__________________________________________________________________________________________________\n",
      "add_3 (Add)                     (None, 255, 255, 32) 0           add_2[0][0]                      \n",
      "                                                                 activation_4[0][0]               \n",
      "__________________________________________________________________________________________________\n",
      "conv2d_5 (Conv2D)               (None, 255, 255, 32) 9248        add_3[0][0]                      \n",
      "__________________________________________________________________________________________________\n",
      "batch_normalization_4 (BatchNor (None, 255, 255, 32) 128         conv2d_5[0][0]                   \n",
      "__________________________________________________________________________________________________\n",
      "activation_5 (Activation)       (None, 255, 255, 32) 0           batch_normalization_4[0][0]      \n",
      "__________________________________________________________________________________________________\n",
      "add_4 (Add)                     (None, 255, 255, 32) 0           add_3[0][0]                      \n",
      "                                                                 activation_5[0][0]               \n",
      "__________________________________________________________________________________________________\n",
      "conv2d_6 (Conv2D)               (None, 255, 255, 1)  289         add_4[0][0]                      \n",
      "__________________________________________________________________________________________________\n",
      "add_5 (Add)                     (None, 255, 255, 1)  0           input_1[0][0]                    \n",
      "                                                                 conv2d_6[0][0]                   \n",
      "__________________________________________________________________________________________________\n",
      "activation_6 (Activation)       (None, 255, 255, 1)  0           add_5[0][0]                      \n",
      "==================================================================================================\n",
      "Total params: 47,489\n",
      "Trainable params: 47,169\n",
      "Non-trainable params: 320\n",
      "__________________________________________________________________________________________________\n"
     ]
    }
   ],
   "source": [
    "def resBlock(input_tensor, num_channels):\n",
    "  conv = Conv2D(num_channels,(3,3),padding='same')(input_tensor)\n",
    "  bn = BatchNormalization()(conv)\n",
    "  relu  = Activation('relu')(bn)\n",
    "  add   = Add()([input_tensor, relu])\n",
    "\n",
    "  # output_tensor = Activation('relu')(add)\n",
    "  return add\n",
    "\n",
    "def build_resnet_model(height,width,num_channels,num_res_blocks):\n",
    "    inp       = Input(shape=(height,width,1))\n",
    "    conv      = Conv2D (num_channels,(3,3),padding='same')(inp)\n",
    "    block_out = Activation('relu')(conv)\n",
    "\n",
    "    for i in np.arange(0,num_res_blocks):\n",
    "        block_out = resBlock(block_out, num_channels)\n",
    "\n",
    "    conv_m2 = Conv2D (1,(3,3),padding='same')(block_out)\n",
    "    add_m2 = Add()([inp, conv_m2])\n",
    "    relu_m2 = Activation('relu')(add_m2)\n",
    "    model = Model(inputs = inp, outputs = relu_m2)\n",
    "\n",
    "    return model\n",
    "\n",
    "model = build_resnet_model(255,255,32,5)\n",
    "model.summary()"
   ]
  },
  {
   "cell_type": "code",
   "execution_count": 19,
   "metadata": {
    "colab": {
     "base_uri": "https://localhost:8080/"
    },
    "id": "7RcCYq9j8gGo",
    "outputId": "908e6fcd-a80e-41c3-ff96-2df19424bd1d"
   },
   "outputs": [
    {
     "name": "stdout",
     "output_type": "stream",
     "text": [
      "Epoch 1/50\n",
      "  1/400 [..............................] - ETA: 18s - loss: 0.2567 - mse: 0.2567WARNING:tensorflow:Callbacks method `on_train_batch_end` is slow compared to the batch time (batch time: 0.0040s vs `on_train_batch_end` time: 0.0458s). Check your callbacks.\n",
      "399/400 [============================>.] - ETA: 0s - loss: 0.2789 - mse: 0.2789WARNING:tensorflow:Callbacks method `on_test_batch_end` is slow compared to the batch time (batch time: 0.0030s vs `on_test_batch_end` time: 0.0126s). Check your callbacks.\n",
      "400/400 [==============================] - 22s 54ms/step - loss: 0.2789 - mse: 0.2789 - val_loss: 0.2829 - val_mse: 0.2829\n",
      "Epoch 2/50\n",
      "400/400 [==============================] - 21s 53ms/step - loss: 0.2789 - mse: 0.2789 - val_loss: 0.2829 - val_mse: 0.2829\n",
      "Epoch 3/50\n",
      "400/400 [==============================] - 21s 53ms/step - loss: 0.2789 - mse: 0.2789 - val_loss: 0.2829 - val_mse: 0.2829\n",
      "Epoch 4/50\n",
      "400/400 [==============================] - 21s 53ms/step - loss: 0.2789 - mse: 0.2789 - val_loss: 0.2829 - val_mse: 0.2829\n",
      "Epoch 5/50\n",
      "400/400 [==============================] - 20s 51ms/step - loss: 0.2789 - mse: 0.2789 - val_loss: 0.2829 - val_mse: 0.2829\n",
      "Epoch 6/50\n",
      "400/400 [==============================] - 21s 51ms/step - loss: 0.2789 - mse: 0.2789 - val_loss: 0.2829 - val_mse: 0.2829\n",
      "Epoch 7/50\n",
      "400/400 [==============================] - 21s 51ms/step - loss: 0.2789 - mse: 0.2789 - val_loss: 0.2829 - val_mse: 0.2829\n",
      "Epoch 8/50\n",
      "400/400 [==============================] - 21s 52ms/step - loss: 0.2789 - mse: 0.2789 - val_loss: 0.2829 - val_mse: 0.2829\n",
      "Epoch 9/50\n",
      "400/400 [==============================] - 21s 52ms/step - loss: 0.2789 - mse: 0.2789 - val_loss: 0.2829 - val_mse: 0.2829\n",
      "Epoch 10/50\n",
      "400/400 [==============================] - 21s 52ms/step - loss: 0.2789 - mse: 0.2789 - val_loss: 0.2829 - val_mse: 0.2829\n",
      "Epoch 11/50\n",
      "400/400 [==============================] - 21s 52ms/step - loss: 0.2789 - mse: 0.2789 - val_loss: 0.2829 - val_mse: 0.2829\n",
      "Epoch 12/50\n",
      "400/400 [==============================] - 21s 52ms/step - loss: 0.2789 - mse: 0.2789 - val_loss: 0.2829 - val_mse: 0.2829\n",
      "Epoch 13/50\n",
      "400/400 [==============================] - 21s 51ms/step - loss: 0.2789 - mse: 0.2789 - val_loss: 0.2829 - val_mse: 0.2829\n",
      "Epoch 14/50\n",
      "399/400 [============================>.] - ETA: 0s - loss: 0.2790 - mse: 0.2790"
     ]
    }
   ],
   "source": [
    "model.compile(optimizer= Adam(beta_2 = 0.9),loss='mse',metrics=['mse'])\n",
    "history = model.fit(x_train_noise, x_train, 8, 50, 1, validation_data=(x_test_noise,x_test))"
   ]
  },
  {
   "cell_type": "code",
   "execution_count": null,
   "metadata": {
    "colab": {
     "base_uri": "https://localhost:8080/"
    },
    "id": "Ll6A4CdfTUj7",
    "outputId": "2a5c213e-d6a2-491a-eaf7-483d43f45ff0"
   },
   "outputs": [
    {
     "name": "stderr",
     "output_type": "stream",
     "text": [
      "C:\\Users\\USER\\anaconda3\\envs\\octfyp\\lib\\site-packages\\ipykernel_launcher.py:44: FutureWarning: `multichannel` is a deprecated argument name for `structural_similarity`. It will be removed in version 1.0. Please use `channel_axis` instead.\n"
     ]
    },
    {
     "name": "stdout",
     "output_type": "stream",
     "text": [
      "Mean PSNR :  23.667083553790555\n",
      "Mean SSIM :  0.4805826497077942\n"
     ]
    }
   ],
   "source": [
    "# we need to find the psnr value between (noisy_image-predicted noise) and (neat_image)\n",
    "from skimage.metrics import peak_signal_noise_ratio, structural_similarity\n",
    "\n",
    "psnr_mean = 0.00\n",
    "ssim_mean = 0.00\n",
    "# multiply back to 255\n",
    "prediction = model.predict(x_test)\n",
    "# print('prediction[0]', prediction[0]*255)\n",
    "length = len(x_test)\n",
    "\n",
    "for index in range(0, length):\n",
    "  orginal_image = [] # orginal_image = noisy_image / noise\n",
    "  predicted_image = [] # predicted_image = noisy_image / predicted_noise\n",
    "  for i in range(0, 255):\n",
    "    org_img_row = []\n",
    "    pred_img_row = []\n",
    "    for j in range(0, 255):\n",
    "      # scale back all the pixel values back to 255\n",
    "      org_noisy_pixel = x_test[index][i][j]*255 # orginal noisy pixel\n",
    "      org_noise_pixel = x_test_noise[index][i][j]*255 # orginal noise pixel\n",
    "      pred_noise_pixel = prediction[index][i][j]*255 # predicted noise pixel\n",
    "      # for orginal_image\n",
    "      if(org_noise_pixel != 0):\n",
    "        org_img_row.append(org_noisy_pixel/org_noise_pixel)\n",
    "      else:\n",
    "        org_img_row.append([255])\n",
    "      # for predicted image\n",
    "      if(pred_noise_pixel != 0):\n",
    "        pred_img_row.append(org_noisy_pixel/pred_noise_pixel)\n",
    "      else:\n",
    "        pred_img_row.append([255])\n",
    "      # append in the main array\n",
    "    orginal_image.append(org_img_row)\n",
    "    predicted_image.append(pred_img_row)\n",
    "\n",
    "  # convert list to np array\n",
    "  orginal_image = np.array(orginal_image, dtype='float32')\n",
    "  predicted_image = np.array(predicted_image, dtype='float32')\n",
    "  # squeeze the dimension to 255x255\n",
    "  orginal_image = np.squeeze(orginal_image, -1)\n",
    "  predicted_image = np.squeeze(predicted_image, -1)\n",
    "\n",
    "  psnr_mean += peak_signal_noise_ratio(orginal_image, predicted_image, data_range=255)\n",
    "  ssim_mean += structural_similarity(orginal_image, predicted_image, multichannel=True, sigma=1.5, use_sample_covariance=False, data_range=255)\n",
    "\n",
    "psnr_mean /= length\n",
    "ssim_mean /= length\n",
    "\n",
    "print('Mean PSNR : ', psnr_mean)\n",
    "print('Mean SSIM : ', ssim_mean)"
   ]
  },
  {
   "cell_type": "code",
   "execution_count": 19,
   "metadata": {
    "colab": {
     "base_uri": "https://localhost:8080/",
     "height": 521
    },
    "id": "_92mYK4UaUK3",
    "outputId": "c96961f7-943d-4426-d8b9-04faa0096902"
   },
   "outputs": [
    {
     "data": {
      "image/png": "[encoded data removed]",
      "text/plain": [
       "<Figure size 432x288 with 1 Axes>"
      ]
     },
     "metadata": {
      "needs_background": "light"
     },
     "output_type": "display_data"
    },
    {
     "data": {
      "image/png": "[encoded data removed]",
      "text/plain": [
       "<Figure size 432x288 with 1 Axes>"
      ]
     },
     "metadata": {
      "needs_background": "light"
     },
     "output_type": "display_data"
    }
   ],
   "source": [
    "# print(predicted_image.shape)\n",
    "plt.imshow(orginal_image*255, cmap='gray')\n",
    "plt.show()\n",
    "\n",
    "plt.imshow(predicted_image*255, cmap='gray')\n",
    "plt.show()"
   ]
  },
  {
   "cell_type": "code",
   "execution_count": null,
   "metadata": {
    "id": "u_STDjXArFZv"
   },
   "outputs": [],
   "source": [
    "response = model.predict(x_test_noise)"
   ]
  },
  {
   "cell_type": "markdown",
   "metadata": {
    "id": "LV7M7mq73931"
   },
   "source": [
    "Show some of the denoised examples.\n",
    "Images from left to right are - Noisy image, original image, denoised image"
   ]
  },
  {
   "cell_type": "code",
   "execution_count": null,
   "metadata": {
    "id": "Bgl8qeDcrXRI"
   },
   "outputs": [],
   "source": [
    "for index in range(3,6):\n",
    "  plt.subplot(330 + 1)\n",
    "  plt.imshow(x_test_noise[index])\n",
    "  plt.subplot(330 + 2)\n",
    "  plt.imshow(x_test[index])\n",
    "  plt.subplot(330 + 3)\n",
    "  plt.imshow(response[index])\n",
    "  plt.show()"
   ]
  },
  {
   "cell_type": "markdown",
   "metadata": {
    "id": "4kj1Z7Td4NTd"
   },
   "source": [
    "The distribution of noise on the test set."
   ]
  },
  {
   "cell_type": "code",
   "execution_count": null,
   "metadata": {
    "id": "_wlFGcwNw3CV"
   },
   "outputs": [],
   "source": [
    "avg_mse   = []\n",
    "avg_mean  = []\n",
    "avg_sd    = []\n",
    "\n",
    "for index in range(0,1000):\n",
    "  avg_mean.append(np.mean(x_test[index] - response[index]))\n",
    "  avg_mse.append(np.mean((x_test[index] - response[index])**2))\n",
    "  avg_sd.append(np.std(x_test[index] - response[index]))\n",
    "\n",
    "print(\"Mean:\", np.sum(avg_mean)/1000)\n",
    "print(\"MSE:\", np.sum(avg_mse)/1000)\n",
    "print(\"SD:\", np.sum(avg_sd)/1000)"
   ]
  },
  {
   "cell_type": "code",
   "execution_count": null,
   "metadata": {
    "id": "MQX-3JomzALt"
   },
   "outputs": [],
   "source": [
    "from pandas import Series\n",
    "import seaborn as sns\n",
    "\n",
    "sns.distplot(avg_mean, hist=False, kde=True, \n",
    "             bins=int(180/5), color = 'darkblue', \n",
    "             hist_kws={'edgecolor':'black'},\n",
    "             kde_kws={'linewidth': 4})"
   ]
  },
  {
   "cell_type": "markdown",
   "metadata": {
    "id": "dlQIAXsN4aA8"
   },
   "source": [
    "Model without skip connections"
   ]
  },
  {
   "cell_type": "code",
   "execution_count": null,
   "metadata": {
    "id": "vc-om5My4dRB"
   },
   "outputs": [],
   "source": [
    "def noSkipBlock(input_tensor, num_channels):\n",
    "  conv1 = Conv2D(num_channels,(3,3),padding='same')(input_tensor)\n",
    "  relu  = Activation('relu')(conv1)\n",
    "  conv2 = Conv2D(num_channels,(3,3),padding='same')(relu)\n",
    "\n",
    "  output_tensor = Activation('relu')(conv2)\n",
    "  return output_tensor\n",
    "\n",
    "def build_noskip_model(height,width,num_channels,num_res_blocks):\n",
    "    inp       = Input(shape=(height,width,3))\n",
    "    conv      = Conv2D (num_channels,(3,3),padding='same')(inp)\n",
    "    block_out = Activation('relu')(conv)\n",
    "\n",
    "    for i in np.arange(0,num_res_blocks):\n",
    "        block_out = noSkipBlock(block_out, num_channels)\n",
    "\n",
    "    conv_m2   = Conv2D (3,(3,3),padding='same')(block_out)\n",
    "    model     = Model(inputs =inp,outputs = conv_m2)\n",
    "\n",
    "    return model\n",
    "\n",
    "modelNoSkip = build_noskip_model(32,32,32,5)\n",
    "modelNoSkip.name = 'NoSkipModel'\n",
    "modelNoSkip.summary()"
   ]
  },
  {
   "cell_type": "code",
   "execution_count": null,
   "metadata": {
    "id": "GHGG3Ft_5CyE"
   },
   "outputs": [],
   "source": [
    "modelNoSkip.compile(optimizer= Adam(beta_2 = 0.9),loss='mean_squared_error',metrics=['mse'])\n",
    "\n",
    "historyNoSkip = modelNoSkip.fit(x_train_noisy, x_train, 128, 25, 1, validation_data=(x_test_noisy,x_test))"
   ]
  },
  {
   "cell_type": "code",
   "execution_count": null,
   "metadata": {
    "id": "Se_EZu97Ms7Q"
   },
   "outputs": [],
   "source": [
    "response_noSkip = modelNoSkip.predict(x_test_noisy)"
   ]
  },
  {
   "cell_type": "code",
   "execution_count": null,
   "metadata": {
    "id": "NQeBRWbxM3Xo"
   },
   "outputs": [],
   "source": [
    "for index in range(3,6):\n",
    "  plt.subplot(440 + 1)\n",
    "  plt.imshow(x_test_noisy[index])\n",
    "  plt.subplot(440 + 2)\n",
    "  plt.imshow(x_test[index])\n",
    "  plt.subplot(440 + 3)\n",
    "  plt.imshow(response[index])\n",
    "  plt.subplot(440 + 4)\n",
    "  plt.imshow(response_noSkip[index])\n",
    "  plt.show()"
   ]
  },
  {
   "cell_type": "code",
   "execution_count": null,
   "metadata": {
    "id": "SbVosdcnMXw5"
   },
   "outputs": [],
   "source": [
    "noskip_avg_mse   = []\n",
    "noskip_avg_mean  = []\n",
    "noskip_avg_sd    = []\n",
    "\n",
    "for index in range(0,1000):\n",
    "  noskip_avg_mean.append(np.mean(x_test[index] - response_noSkip[index]))\n",
    "  noskip_avg_mse.append(np.mean((x_test[index] - response_noSkip[index])**2))\n",
    "  noskip_avg_sd.append(np.std(x_test[index] - response_noSkip[index]))\n",
    "\n",
    "print(\"Mean:\", np.sum(noskip_avg_mean)/1000)\n",
    "print(\"MSE:\", np.sum(noskip_avg_mse)/1000)\n",
    "print(\"SD:\", np.sum(noskip_avg_sd)/1000)"
   ]
  },
  {
   "cell_type": "code",
   "execution_count": null,
   "metadata": {
    "id": "GBJqmbG7Mj54"
   },
   "outputs": [],
   "source": [
    "sns.distplot(noskip_avg_mean, hist = False, kde = True,\n",
    "                 kde_kws = {'linewidth': 3},\n",
    "             label='No Skip Net')\n",
    "\n",
    "sns.distplot(avg_mean, hist = False, kde = True,\n",
    "                 kde_kws = {'linewidth': 3},\n",
    "             label = 'ResNet')"
   ]
  },
  {
   "cell_type": "code",
   "execution_count": null,
   "metadata": {
    "id": "deTMTyUvOfF5"
   },
   "outputs": [],
   "source": [
    "#Resnet = [0.0027,0.0022,0.0020,0.0019,0.0018,0.0018,0.0017,0.0017,0.0017,0.0017,0.0016,0.0016,0.0016,0.0016,0.0016,0.0016,0.0016,0.0016,0.0016,0.0016,0.0016,0.0016,0.0016,0.0015,0.0015]\n",
    "\n",
    "plt.plot(history.history['val_mse'])\n",
    "plt.plot(historyNoSkip.history['val_mse'])\n",
    "plt.title('Val MSE')\n",
    "plt.ylabel('mse')\n",
    "plt.xlabel('epoch')\n",
    "plt.legend(['ResNet', 'No Skip Net'], loc='upper right')\n",
    "plt.show()"
   ]
  }
 ],
 "metadata": {
  "accelerator": "GPU",
  "colab": {
   "collapsed_sections": [],
   "name": "Copy of Denoising using ResNet.ipynb",
   "provenance": []
  },
  "kernelspec": {
   "display_name": "Python 3 (ipykernel)",
   "language": "python",
   "name": "python3"
  },
  "language_info": {
   "codemirror_mode": {
    "name": "ipython",
    "version": 3
   },
   "file_extension": ".py",
   "mimetype": "text/x-python",
   "name": "python",
   "nbconvert_exporter": "python",
   "pygments_lexer": "ipython3",
   "version": "3.7.11"
  }
 },
 "nbformat": 4,
 "nbformat_minor": 1
}
